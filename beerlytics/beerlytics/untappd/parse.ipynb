{
 "cells": [
  {
   "cell_type": "markdown",
   "source": [],
   "metadata": {
    "collapsed": false
   },
   "id": "fc6790256e31e17"
  },
  {
   "cell_type": "code",
   "execution_count": 2,
   "outputs": [],
   "source": [
    "import time\n",
    "from math import ceil\n",
    "\n",
    "from helium import *\n",
    "from selenium.webdriver.common.by import By\n",
    "import json"
   ],
   "metadata": {
    "collapsed": false,
    "ExecuteTime": {
     "end_time": "2023-12-21T15:24:49.031666100Z",
     "start_time": "2023-12-21T15:24:49.024791400Z"
    }
   },
   "id": "900c4b2bca644a85"
  },
  {
   "cell_type": "code",
   "execution_count": 3,
   "outputs": [],
   "source": [
    "from helium import start_firefox\n",
    "\n",
    "driver = start_firefox()"
   ],
   "metadata": {
    "collapsed": true,
    "ExecuteTime": {
     "end_time": "2023-12-21T15:24:57.926997800Z",
     "start_time": "2023-12-21T15:24:49.654267400Z"
    }
   },
   "id": "initial_id"
  },
  {
   "cell_type": "code",
   "execution_count": 15,
   "outputs": [
    {
     "name": "stdout",
     "output_type": "stream",
     "text": [
      "55\n"
     ]
    }
   ],
   "source": [
    "def load_breweries_base():\n",
    "    with open('beer_db.json', encoding='utf-8') as f:\n",
    "        return json.load(f)\n",
    "\n",
    "\n",
    "def save_breweries_base(breweries):\n",
    "    with open('beer_db.json', 'w', encoding='utf-8') as f:\n",
    "        return json.dump(breweries, f, )\n",
    "\n",
    "\n",
    "all_breweries = load_breweries_base()\n",
    "print(len(all_breweries))\n"
   ],
   "metadata": {
    "collapsed": false,
    "ExecuteTime": {
     "end_time": "2023-12-21T15:30:20.065174Z",
     "start_time": "2023-12-21T15:30:20.032185700Z"
    }
   },
   "id": "9a12c1c2949fd090"
  },
  {
   "cell_type": "code",
   "execution_count": 5,
   "outputs": [
    {
     "data": {
      "text/plain": "(['https://untappd.com/BrasseriedeSilly/beer',\n  'https://untappd.com/w/asahi-breweries/50/beer',\n  'https://untappd.com/RebelApple/beer',\n  'https://untappd.com/youtonbrewery/beer',\n  'https://untappd.com/NXbrew/beer',\n  'https://untappd.com/paradox-beer/beer',\n  'https://untappd.com/GurinCraft/beer',\n  'https://untappd.com/BreweryGusi/beer',\n  'https://untappd.com/KLAATUBREW/beer',\n  'https://untappd.com/w/tridevyatoe/477859/beer'],\n 82)"
     },
     "execution_count": 5,
     "metadata": {},
     "output_type": "execute_result"
    }
   ],
   "source": [
    "with open('new-breweries.txt', encoding='utf-8') as f:\n",
    "    new_breweries = f.read().splitlines()\n",
    "new_breweries[:10], len(new_breweries)"
   ],
   "metadata": {
    "collapsed": false,
    "ExecuteTime": {
     "end_time": "2023-12-21T15:24:58.040508900Z",
     "start_time": "2023-12-21T15:24:58.011380500Z"
    }
   },
   "id": "e08ddc31aa6809dd"
  },
  {
   "cell_type": "code",
   "execution_count": 28,
   "outputs": [],
   "source": [
    "def scroll_till_the_end():\n",
    "    for i in range(ceil(300 / 25) + 1):\n",
    "        scroll_down(10000)\n",
    "        \n",
    "        try:\n",
    "            load_more_btn = S('.more-list-items').web_element\n",
    "        except LookupError:\n",
    "            break\n",
    "        else:\n",
    "            load_more_btn.click()\n",
    "            time.sleep(0.5)"
   ],
   "metadata": {
    "collapsed": false,
    "ExecuteTime": {
     "end_time": "2023-12-21T15:34:34.015982100Z",
     "start_time": "2023-12-21T15:34:33.993338800Z"
    }
   },
   "id": "1b6f62f8f032c7bd"
  },
  {
   "cell_type": "code",
   "execution_count": 7,
   "outputs": [],
   "source": [
    "def parse_brewery(url):\n",
    "    brewery = {\n",
    "        'title': S('.b_info .name h1').web_element.text,\n",
    "        'location': S('.b_info .name .brewery').web_element.text,\n",
    "        'url': url\n",
    "    }\n",
    "\n",
    "    # Extract beers information\n",
    "    beers = []\n",
    "    for beer_item in find_all(S('.beer-item')):\n",
    "        beer_item = beer_item.web_element\n",
    "        title = beer_item.find_element(By.CLASS_NAME, 'name').text.strip()\n",
    "        link = beer_item.find_element(By.TAG_NAME, 'a').get_attribute('href').strip()\n",
    "        style = beer_item.find_element(By.CLASS_NAME, 'style').text.strip()\n",
    "        abv = beer_item.find_element(By.CLASS_NAME, 'abv').text.strip()\n",
    "        ibu = beer_item.find_element(By.CLASS_NAME, 'ibu').text.strip()\n",
    "        rating = beer_item.find_element(By.CSS_SELECTOR, '.num').text.strip()\n",
    "        rating_amount = beer_item.find_element(By.CLASS_NAME, 'raters').text.strip()\n",
    "        added = beer_item.find_element(By.CLASS_NAME, 'date').text.strip()\n",
    "\n",
    "        # Extract ABV, IBU, rating, ratingAmount, and added\n",
    "        abv = float(abv.split('%')[0]) if 'N/A' not in abv else 0\n",
    "        added = added[6:] if 'Added' in added else added\n",
    "        ibu = int(ibu.split(' ')[0]) if 'N/A' not in ibu else 0\n",
    "        rating = float(rating[1:-1]) if 'N/A' not in rating else 0\n",
    "        rating_amount = int(rating_amount.split(' ')[0].replace(',', ''))\n",
    "\n",
    "        # Split style into mainStyle and subStyle\n",
    "        main_style, sub_style = style.split(' - ') if ' - ' in style else (style, '')\n",
    "\n",
    "        # Add beer to beers list\n",
    "        beers.append({\n",
    "            'title': title,\n",
    "            'link': link,\n",
    "            'style': style,\n",
    "            'abv': abv,\n",
    "            'ibu': ibu,\n",
    "            'rating': rating,\n",
    "            'ratingAmount': rating_amount,\n",
    "            'added': added,\n",
    "            'mainStyle': main_style,\n",
    "            'subStyle': sub_style,\n",
    "            'breweryLink': url\n",
    "        })\n",
    "\n",
    "    return dict(brewery=brewery, beers=beers)\n"
   ],
   "metadata": {
    "collapsed": false,
    "ExecuteTime": {
     "end_time": "2023-12-21T15:24:58.101357900Z",
     "start_time": "2023-12-21T15:24:58.058982500Z"
    }
   },
   "id": "29b2233d9bb3c61e"
  },
  {
   "cell_type": "code",
   "execution_count": 24,
   "outputs": [],
   "source": [
    "url = new_breweries[3]\n",
    "driver.execute_script(f'location.replace(\"{url}\")')\n"
   ],
   "metadata": {
    "collapsed": false,
    "ExecuteTime": {
     "end_time": "2023-12-21T15:32:44.561905200Z",
     "start_time": "2023-12-21T15:32:44.517786900Z"
    }
   },
   "id": "34bbacae72e70493"
  },
  {
   "cell_type": "code",
   "execution_count": 26,
   "outputs": [
    {
     "name": "stdout",
     "output_type": "stream",
     "text": [
      "parsed: 53; all_breweries: 58\n"
     ]
    }
   ],
   "source": [
    "\n",
    "brewery_dict = parse_brewery(url)\n",
    "all_breweries.append(brewery_dict)\n",
    "save_breweries_base(all_breweries)\n",
    "print(f\"parsed: {len(brewery_dict['beers'])}; all_breweries: {len(all_breweries)}\")"
   ],
   "metadata": {
    "collapsed": false,
    "ExecuteTime": {
     "end_time": "2023-12-21T15:33:11.443266Z",
     "start_time": "2023-12-21T15:33:04.558635200Z"
    }
   },
   "id": "dcfdd253023ed234"
  },
  {
   "cell_type": "code",
   "execution_count": 29,
   "outputs": [
    {
     "name": "stdout",
     "output_type": "stream",
     "text": [
      "parsed: 38; all_breweries: 59\n",
      "parsed: 166; all_breweries: 60\n",
      "parsed: 77; all_breweries: 61\n",
      "parsed: 233; all_breweries: 62\n",
      "parsed: 12; all_breweries: 63\n",
      "parsed: 9; all_breweries: 64\n",
      "parsed: 313; all_breweries: 65\n",
      "parsed: 137; all_breweries: 66\n",
      "parsed: 38; all_breweries: 67\n",
      "parsed: 135; all_breweries: 68\n",
      "parsed: 14; all_breweries: 69\n",
      "parsed: 267; all_breweries: 70\n",
      "parsed: 31; all_breweries: 71\n",
      "parsed: 75; all_breweries: 72\n",
      "parsed: 87; all_breweries: 73\n",
      "parsed: 28; all_breweries: 74\n",
      "parsed: 121; all_breweries: 75\n",
      "parsed: 82; all_breweries: 76\n",
      "parsed: 26; all_breweries: 77\n",
      "parsed: 98; all_breweries: 78\n",
      "parsed: 27; all_breweries: 79\n",
      "parsed: 19; all_breweries: 80\n",
      "parsed: 21; all_breweries: 81\n",
      "parsed: 11; all_breweries: 82\n",
      "parsed: 43; all_breweries: 83\n",
      "parsed: 44; all_breweries: 84\n",
      "parsed: 95; all_breweries: 85\n",
      "parsed: 19; all_breweries: 86\n",
      "parsed: 64; all_breweries: 87\n",
      "parsed: 242; all_breweries: 88\n",
      "parsed: 114; all_breweries: 89\n",
      "parsed: 102; all_breweries: 90\n",
      "parsed: 16; all_breweries: 91\n",
      "parsed: 133; all_breweries: 92\n",
      "parsed: 35; all_breweries: 93\n",
      "parsed: 280; all_breweries: 94\n",
      "parsed: 12; all_breweries: 95\n",
      "parsed: 93; all_breweries: 96\n",
      "parsed: 30; all_breweries: 97\n",
      "parsed: 6; all_breweries: 98\n",
      "parsed: 40; all_breweries: 99\n",
      "parsed: 28; all_breweries: 100\n",
      "parsed: 131; all_breweries: 101\n",
      "parsed: 31; all_breweries: 102\n",
      "parsed: 17; all_breweries: 103\n",
      "parsed: 12; all_breweries: 104\n",
      "parsed: 223; all_breweries: 105\n",
      "parsed: 115; all_breweries: 106\n",
      "parsed: 90; all_breweries: 107\n",
      "parsed: 153; all_breweries: 108\n",
      "parsed: 62; all_breweries: 109\n",
      "parsed: 158; all_breweries: 110\n",
      "parsed: 8; all_breweries: 111\n",
      "parsed: 196; all_breweries: 112\n",
      "parsed: 152; all_breweries: 113\n",
      "parsed: 350; all_breweries: 114\n",
      "parsed: 126; all_breweries: 115\n",
      "parsed: 12; all_breweries: 116\n",
      "parsed: 14; all_breweries: 117\n",
      "parsed: 50; all_breweries: 118\n",
      "parsed: 93; all_breweries: 119\n",
      "parsed: 55; all_breweries: 120\n",
      "parsed: 30; all_breweries: 121\n",
      "parsed: 18; all_breweries: 122\n",
      "parsed: 64; all_breweries: 123\n",
      "parsed: 140; all_breweries: 124\n",
      "parsed: 105; all_breweries: 125\n",
      "parsed: 42; all_breweries: 126\n",
      "parsed: 141; all_breweries: 127\n",
      "parsed: 196; all_breweries: 128\n",
      "parsed: 237; all_breweries: 129\n",
      "parsed: 3; all_breweries: 130\n",
      "parsed: 88; all_breweries: 131\n",
      "parsed: 242; all_breweries: 132\n",
      "parsed: 224; all_breweries: 133\n",
      "parsed: 233; all_breweries: 134\n",
      "parsed: 95; all_breweries: 135\n",
      "parsed: 45; all_breweries: 136\n"
     ]
    }
   ],
   "source": [
    "for url in new_breweries[4:]:\n",
    "    driver.execute_script(f'location.replace(\"{url}\")')\n",
    "    time.sleep(1)\n",
    "    scroll_till_the_end()\n",
    "    brewery_dict = parse_brewery(url)\n",
    "    all_breweries.append(brewery_dict)\n",
    "    save_breweries_base(all_breweries)\n",
    "    print(f\"parsed: {len(brewery_dict['beers'])}; all_breweries: {len(all_breweries)}\")"
   ],
   "metadata": {
    "collapsed": false,
    "ExecuteTime": {
     "end_time": "2023-12-21T16:10:05.470773800Z",
     "start_time": "2023-12-21T15:34:47.226832200Z"
    }
   },
   "id": "922b39687b9aafbc"
  },
  {
   "cell_type": "code",
   "execution_count": null,
   "outputs": [],
   "source": [],
   "metadata": {
    "collapsed": false
   },
   "id": "22d37308f8c004eb"
  }
 ],
 "metadata": {
  "kernelspec": {
   "display_name": "Python 3",
   "language": "python",
   "name": "python3"
  },
  "language_info": {
   "codemirror_mode": {
    "name": "ipython",
    "version": 2
   },
   "file_extension": ".py",
   "mimetype": "text/x-python",
   "name": "python",
   "nbconvert_exporter": "python",
   "pygments_lexer": "ipython2",
   "version": "2.7.6"
  }
 },
 "nbformat": 4,
 "nbformat_minor": 5
}
